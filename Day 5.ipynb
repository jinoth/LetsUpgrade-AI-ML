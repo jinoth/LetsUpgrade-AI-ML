{
 "cells": [
  {
   "cell_type": "markdown",
   "metadata": {},
   "source": [
    "## program to find the first 20 non-even prime natural numbers"
   ]
  },
  {
   "cell_type": "code",
   "execution_count": 15,
   "metadata": {},
   "outputs": [
    {
     "name": "stdout",
     "output_type": "stream",
     "text": [
      "the first 20 non-even prime natural numbers are:\n",
      "2 3 5 7 11 13 17 19 23 29 31 37 41 43 47 53 59 61 67 71 73 "
     ]
    }
   ],
   "source": [
    "count=0\n",
    "num=2\n",
    "print(\"the first 20 non-even prime natural numbers are:\")\n",
    "while count<20:\n",
    "    if num==2:\n",
    "        print(num,end=\" \")\n",
    "    for j in range(2,num):\n",
    "        if num%j==0:\n",
    "            break\n",
    "        else:\n",
    "            if j+1==num:\n",
    "                count+=1\n",
    "                print(num,end=\" \")\n",
    "    num+=1"
   ]
  },
  {
   "cell_type": "markdown",
   "metadata": {},
   "source": [
    "## program to implement 15 functions of string."
   ]
  },
  {
   "cell_type": "code",
   "execution_count": 87,
   "metadata": {},
   "outputs": [
    {
     "name": "stdout",
     "output_type": "stream",
     "text": [
      "Jinothkumar\n",
      "jinoth kumar\n",
      "b'jinothkumar'\n",
      "True\n",
      "jinothkumar\n",
      "6\n",
      "3\n",
      "True\n",
      "True\n",
      "JINOTHKUMAR\n",
      "jinoth kumar\n",
      "JINOTHKUMAR\n",
      "['jinothkumar']\n",
      "['JINOTH', 'KUMAR']\n",
      "('JINOTH', ' ', 'KUMAR')\n"
     ]
    }
   ],
   "source": [
    "sname=\"jinothkumar\"\n",
    "cname=\"JINOTH KUMAR\"\n",
    "print(sname.capitalize())\n",
    "print(cname.casefold())\n",
    "print(sname.encode())\n",
    "print(sname.endswith(\"r\"))\n",
    "print(sname.expandtabs())\n",
    "print(sname.find(\"k\"))\n",
    "print(sname.index(\"o\"))\n",
    "print(sname.isalnum())\n",
    "print(sname.isalpha())\n",
    "print(sname.upper())\n",
    "print(cname.lower())\n",
    "print(sname.swapcase())\n",
    "print(sname.rsplit(\",\"))\n",
    "print(cname.rsplit(\" \"))\n",
    "print(cname.partition(\" \"))"
   ]
  },
  {
   "cell_type": "markdown",
   "metadata": {},
   "source": [
    "## program to check if the given string is a Palindrome or Anagram or None of them."
   ]
  },
  {
   "cell_type": "code",
   "execution_count": 95,
   "metadata": {},
   "outputs": [
    {
     "name": "stdout",
     "output_type": "stream",
     "text": [
      "enter a word to check palindrome or notmalayalam\n",
      "given word is a palindrome\n",
      "enter first word to check anagram or notdad\n",
      "enter second word to check anagram or notadd\n",
      "given words are anagrams\n"
     ]
    }
   ],
   "source": [
    "word=input(\"enter a word to check palindrome or not\")\n",
    "if word==word[::-1]:\n",
    "    print(\"given word is a palindrome\")\n",
    "else:\n",
    "    print(\"given word is not a palindrome\")\n",
    "word1=input(\"enter first word to check anagram or not\")\n",
    "word2=input(\"enter second word to check anagram or not\")\n",
    "if sorted(word1)==sorted(word2):\n",
    "    print(\"given words are anagrams\")\n",
    "else:\n",
    "    print(\"given words are not anagrams\")"
   ]
  },
  {
   "cell_type": "markdown",
   "metadata": {},
   "source": [
    "## user defined function that removes all the additional characters from the string and converts it finally to lower case using built-in lower()."
   ]
  },
  {
   "cell_type": "code",
   "execution_count": 192,
   "metadata": {},
   "outputs": [
    {
     "name": "stdout",
     "output_type": "stream",
     "text": [
      "enter a string :Dr. Darshan Ingle @AI-ML Trainer\n",
      "converted string is : drdarshaningleaimltrainer\n"
     ]
    }
   ],
   "source": [
    "name=input(\"enter a string :\")\n",
    "\n",
    "def convert(name):\n",
    "    st=\"\"\n",
    "    for i in name:\n",
    "        if i.isalnum():\n",
    "            st=st+i\n",
    "    st=st.lower()\n",
    "    print(\"converted string is :\",st)\n",
    "    \n",
    "convert(name)"
   ]
  }
 ],
 "metadata": {
  "kernelspec": {
   "display_name": "Python 3",
   "language": "python",
   "name": "python3"
  },
  "language_info": {
   "codemirror_mode": {
    "name": "ipython",
    "version": 3
   },
   "file_extension": ".py",
   "mimetype": "text/x-python",
   "name": "python",
   "nbconvert_exporter": "python",
   "pygments_lexer": "ipython3",
   "version": "3.6.3"
  }
 },
 "nbformat": 4,
 "nbformat_minor": 4
}
