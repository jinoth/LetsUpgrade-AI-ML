{
 "cells": [
  {
   "cell_type": "markdown",
   "metadata": {},
   "source": [
    "## Question 1"
   ]
  },
  {
   "cell_type": "code",
   "execution_count": 22,
   "metadata": {},
   "outputs": [
    {
     "name": "stdout",
     "output_type": "stream",
     "text": [
      "john@google.com\n",
      "google"
     ]
    }
   ],
   "source": [
    "mail=input()\n",
    "def convert(a):\n",
    "    c=0\n",
    "    for i in a:\n",
    "        if(i.isalpha()==False):\n",
    "            if c==1:\n",
    "                    break\n",
    "            for j in range(a.index(i)+1,len(a)):\n",
    "                if a[j].isalpha()==False:\n",
    "                    c=1\n",
    "                    break\n",
    "                print(a[j],end=\"\")\n",
    "                \n",
    "convert(mail)"
   ]
  },
  {
   "cell_type": "markdown",
   "metadata": {},
   "source": [
    "## Question 2"
   ]
  },
  {
   "cell_type": "code",
   "execution_count": 1,
   "metadata": {},
   "outputs": [
    {
     "name": "stdout",
     "output_type": "stream",
     "text": [
      "without,hello,bag,world\n",
      "bag,hello,without,world"
     ]
    }
   ],
   "source": [
    "words = input()\n",
    "words=words.split(\",\")\n",
    "words.sort()\n",
    "for i in words:\n",
    "    print(i,end=\"\")\n",
    "    if words.index(i)!=len(words)-1:\n",
    "        print(end=\",\")"
   ]
  },
  {
   "cell_type": "markdown",
   "metadata": {},
   "source": [
    "## Question 3"
   ]
  },
  {
   "cell_type": "markdown",
   "metadata": {},
   "source": [
    "## A set is a collection which is unordered and unindexed. In Python sets are written with curly brackets."
   ]
  },
  {
   "cell_type": "code",
   "execution_count": 24,
   "metadata": {},
   "outputs": [
    {
     "name": "stdout",
     "output_type": "stream",
     "text": [
      "{1, 2, 3, 'LetsUpgrade', 'AI', 'python', 'ML'}\n",
      "{1, 2, 3, 'dharsansir', 'LetsUpgrade', 'AI', 'python', 'ML'}\n",
      "{1, 2, 3, 'dharsansir', 'LetsUpgrade', 'set', 'operations', 'AI', 'python', 'ML'}\n",
      "{1, 2, 3, 'dharsansir', 'LetsUpgrade', 'set', 'operations', 'python', 'ML'}\n",
      "{1, 2, 3, 'dharsansir', 'LetsUpgrade', 'set', 'operations', 'python'}\n",
      "{2, 3, 'dharsansir', 'LetsUpgrade', 'set', 'operations', 'python'}\n",
      "set()\n"
     ]
    }
   ],
   "source": [
    "set1={1,2,\"python\",\"AI\",3,\"ML\"}\n",
    "\n",
    "#adding element to set\n",
    "set1.add(\"LetsUpgrade\")\n",
    "print(set1)\n",
    "set1.update([\"dharsansir\"])\n",
    "print(set1)\n",
    "set2={\"set\",\"operations\"}\n",
    "set1=set1.union(set2)\n",
    "print(set1)\n",
    "set1.remove(\"AI\")\n",
    "print(set1)\n",
    "set1.discard(\"ML\")\n",
    "print(set1)\n",
    "set1.pop()\n",
    "#its remove the first vlaue in the set\n",
    "print(set1)\n",
    "set1.clear()\n",
    "#its clear the set\n",
    "print(set1)\n",
    "del set1\n",
    "#its delets the set and return error\n"
   ]
  },
  {
   "cell_type": "markdown",
   "metadata": {},
   "source": [
    "## Question 4"
   ]
  },
  {
   "cell_type": "code",
   "execution_count": 43,
   "metadata": {},
   "outputs": [
    {
     "name": "stdout",
     "output_type": "stream",
     "text": [
      "1 2 4 6 3 7 8\n",
      "5 "
     ]
    }
   ],
   "source": [
    "num=input()\n",
    "new=num.split(\" \")\n",
    "new=sorted(new)\n",
    "n=[]\n",
    "for i in new:\n",
    "    n.append(int(i))\n",
    "def find_missing(n): \n",
    "    for x in range(1,int(n[-1]+1)):\n",
    "        if x not in n:\n",
    "            print(x,end=\" \") \n",
    "find_missing(n)"
   ]
  },
  {
   "cell_type": "markdown",
   "metadata": {},
   "source": [
    "## Question 5"
   ]
  },
  {
   "cell_type": "code",
   "execution_count": 49,
   "metadata": {},
   "outputs": [
    {
     "name": "stdout",
     "output_type": "stream",
     "text": [
      "12 24 35 24 88 120 155 88 120 155\n",
      "12 120 155 24 35 88 "
     ]
    }
   ],
   "source": [
    "num=input()\n",
    "new=num.split(\" \")\n",
    "new=sorted(new)\n",
    "n=[]\n",
    "for i in new:\n",
    "    n.append(int(i))\n",
    "n1=list(dict.fromkeys(n))\n",
    "for i in n1:\n",
    "    print(i,end=\" \")"
   ]
  },
  {
   "cell_type": "code",
   "execution_count": null,
   "metadata": {},
   "outputs": [],
   "source": []
  }
 ],
 "metadata": {
  "kernelspec": {
   "display_name": "Python 3",
   "language": "python",
   "name": "python3"
  },
  "language_info": {
   "codemirror_mode": {
    "name": "ipython",
    "version": 3
   },
   "file_extension": ".py",
   "mimetype": "text/x-python",
   "name": "python",
   "nbconvert_exporter": "python",
   "pygments_lexer": "ipython3",
   "version": "3.6.3"
  }
 },
 "nbformat": 4,
 "nbformat_minor": 4
}
